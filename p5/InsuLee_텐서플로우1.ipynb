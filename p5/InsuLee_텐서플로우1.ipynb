{
 "cells": [
  {
   "cell_type": "code",
   "execution_count": 1,
   "metadata": {
    "colab": {},
    "colab_type": "code",
    "id": "rweaNDpildjE"
   },
   "outputs": [],
   "source": [
    "import tensorflow as tf"
   ]
  },
  {
   "cell_type": "code",
   "execution_count": 2,
   "metadata": {
    "colab": {
     "base_uri": "https://localhost:8080/",
     "height": 85
    },
    "colab_type": "code",
    "id": "JQUJ6rE1kVdr",
    "outputId": "4611a51e-a95e-4a9b-9c9b-222c16628b2a"
   },
   "outputs": [
    {
     "name": "stdout",
     "output_type": "stream",
     "text": [
      "Tensor(\"Const:0\", shape=(2, 3), dtype=float32)\n",
      "(2, 3)\n"
     ]
    }
   ],
   "source": [
    "x=tf.constant([[1.0,2.0,3.0],[4.0,5.0,6.0]])\n",
    "print(x)\n",
    "print(x.shape)"
   ]
  },
  {
   "cell_type": "code",
   "execution_count": 3,
   "metadata": {
    "colab": {
     "base_uri": "https://localhost:8080/",
     "height": 119
    },
    "colab_type": "code",
    "id": "oDkCQDRFlhiG",
    "outputId": "3ad28b1f-f45c-45ba-e73d-708465c95e58"
   },
   "outputs": [
    {
     "name": "stdout",
     "output_type": "stream",
     "text": [
      "Tensor(\"Const_1:0\", shape=(4, 2), dtype=float32)\n",
      "(4, 2)\n"
     ]
    }
   ],
   "source": [
    "y=tf.constant([[1.0,0.0],[0.0, 1.0], [1.0, 0.0], [0.0, 1.0]])\n",
    "print(y)\n",
    "print(y.shape)"
   ]
  },
  {
   "cell_type": "code",
   "execution_count": 4,
   "metadata": {
    "colab": {
     "base_uri": "https://localhost:8080/",
     "height": 34
    },
    "colab_type": "code",
    "id": "qPbaRFw7psag",
    "outputId": "2733c94d-8d01-40a1-f359-b4614e2e7e17"
   },
   "outputs": [
    {
     "name": "stdout",
     "output_type": "stream",
     "text": [
      "<dtype: 'float32'>\n"
     ]
    }
   ],
   "source": [
    "print(y.dtype)"
   ]
  },
  {
   "cell_type": "code",
   "execution_count": 5,
   "metadata": {
    "colab": {
     "base_uri": "https://localhost:8080/",
     "height": 68
    },
    "colab_type": "code",
    "id": "FULRdwvVoOlC",
    "outputId": "1cd8ee68-a82b-445f-f4d4-d1340928622e"
   },
   "outputs": [
    {
     "name": "stdout",
     "output_type": "stream",
     "text": [
      "Tensor(\"Const_2:0\", shape=(2, 3), dtype=int32)\n"
     ]
    }
   ],
   "source": [
    "a=tf.constant([1,2,3,4,5,6], shape=[2,3])\n",
    "print(a)"
   ]
  },
  {
   "cell_type": "code",
   "execution_count": 6,
   "metadata": {
    "colab": {
     "base_uri": "https://localhost:8080/",
     "height": 85
    },
    "colab_type": "code",
    "id": "LQq7SUuOpB-O",
    "outputId": "de2c05e7-1c02-48c3-fcc4-d2104af1d0d4"
   },
   "outputs": [
    {
     "name": "stdout",
     "output_type": "stream",
     "text": [
      "Tensor(\"Const_3:0\", shape=(3, 2), dtype=int32)\n"
     ]
    }
   ],
   "source": [
    "b=tf.constant([7,8,9,10,11,12], shape=[3,2])\n",
    "print(b)"
   ]
  },
  {
   "cell_type": "code",
   "execution_count": 7,
   "metadata": {
    "colab": {
     "base_uri": "https://localhost:8080/",
     "height": 68
    },
    "colab_type": "code",
    "id": "0tvyrgBIYLBb",
    "outputId": "25d6ea47-22f5-4b71-9996-57ed5161369e"
   },
   "outputs": [
    {
     "name": "stdout",
     "output_type": "stream",
     "text": [
      "Tensor(\"MatMul:0\", shape=(2, 2), dtype=int32)\n"
     ]
    }
   ],
   "source": [
    "c=tf.matmul(a,b)\n",
    "print(c)"
   ]
  },
  {
   "cell_type": "code",
   "execution_count": 8,
   "metadata": {
    "colab": {
     "base_uri": "https://localhost:8080/",
     "height": 170
    },
    "colab_type": "code",
    "id": "bA9D52I-YMKR",
    "outputId": "52e7f2e5-694d-4573-ebfe-f95848588d71"
   },
   "outputs": [
    {
     "name": "stdout",
     "output_type": "stream",
     "text": [
      "Tensor(\"Const_4:0\", shape=(2, 3), dtype=int32)\n",
      "Tensor(\"Const_5:0\", shape=(2, 3), dtype=int32)\n",
      "Tensor(\"Add:0\", shape=(2, 3), dtype=int32)\n"
     ]
    }
   ],
   "source": [
    "j=tf.constant([1,2,3,4,5,6], shape=[2,3])\n",
    "print(j)\n",
    "k=tf.constant([7,8,9,10,11,12], shape=[2,3])\n",
    "print(k)\n",
    "l=tf.add(j,k)\n",
    "print(l)"
   ]
  },
  {
   "cell_type": "code",
   "execution_count": null,
   "metadata": {},
   "outputs": [],
   "source": []
  }
 ],
 "metadata": {
  "colab": {
   "collapsed_sections": [],
   "name": "tensorBasic.ipynb",
   "provenance": []
  },
  "kernelspec": {
   "display_name": "Python 3",
   "language": "python",
   "name": "python3"
  },
  "language_info": {
   "codemirror_mode": {
    "name": "ipython",
    "version": 3
   },
   "file_extension": ".py",
   "mimetype": "text/x-python",
   "name": "python",
   "nbconvert_exporter": "python",
   "pygments_lexer": "ipython3",
   "version": "3.7.3"
  }
 },
 "nbformat": 4,
 "nbformat_minor": 1
}
